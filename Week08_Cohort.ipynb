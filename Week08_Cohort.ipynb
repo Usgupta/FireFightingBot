{
  "nbformat": 4,
  "nbformat_minor": 0,
  "metadata": {
    "kernelspec": {
      "display_name": "Python 3 [3.7]",
      "language": "python",
      "name": "python3"
    },
    "language_info": {
      "codemirror_mode": {
        "name": "ipython",
        "version": 3
      },
      "file_extension": ".py",
      "mimetype": "text/x-python",
      "name": "python",
      "nbconvert_exporter": "python",
      "pygments_lexer": "ipython3",
      "version": "3.7.5"
    },
    "colab": {
      "name": "Week08_Cohort.ipynb",
      "provenance": [],
      "include_colab_link": true
    }
  },
  "cells": [
    {
      "cell_type": "markdown",
      "metadata": {
        "id": "view-in-github",
        "colab_type": "text"
      },
      "source": [
        "<a href=\"https://colab.research.google.com/github/Usgupta/FireFightingBot/blob/main/Week08_Cohort.ipynb\" target=\"_parent\"><img src=\"https://colab.research.google.com/assets/colab-badge.svg\" alt=\"Open In Colab\"/></a>"
      ]
    },
    {
      "cell_type": "markdown",
      "metadata": {
        "nbgrader": {
          "grade": false,
          "locked": true,
          "solution": false
        },
        "editable": false,
        "deletable": false,
        "id": "kEeODtrIxCbf"
      },
      "source": [
        "# Week 8 Problem Set"
      ]
    },
    {
      "cell_type": "code",
      "metadata": {
        "collapsed": true,
        "nbgrader": {
          "grade": false,
          "locked": true,
          "solution": false
        },
        "editable": false,
        "deletable": false,
        "id": "Jc0rPRsOxCbm"
      },
      "source": [
        "import pandas as pd\n",
        "import matplotlib.pyplot as plt\n",
        "import seaborn as sns\n",
        "import numpy as np"
      ],
      "execution_count": null,
      "outputs": []
    },
    {
      "cell_type": "markdown",
      "metadata": {
        "nbgrader": {
          "grade": false,
          "locked": true,
          "solution": false
        },
        "editable": false,
        "deletable": false,
        "id": "w72_X17IxCbp"
      },
      "source": [
        "## Cohort Sessions"
      ]
    },
    {
      "cell_type": "markdown",
      "metadata": {
        "nbgrader": {
          "grade": false,
          "locked": true,
          "solution": false
        },
        "editable": false,
        "deletable": false,
        "id": "javMysGnxCbr"
      },
      "source": [
        "**CS1.** *Reading Data:* Read CSV file for Boston Housing prices.\n",
        "\n",
        "- **Task 1:** Read the data set. Hint:\n",
        "    - [Pandas read_csv](https://pandas.pydata.org/pandas-docs/stable/reference/api/pandas.read_csv.html)\n",
        "    - Boston's housing data set (filename: `housing_processed.csv`): \n",
        "    - [Boston's housing data description](https://www.kaggle.com/vikrishnan/boston-house-prices)."
      ]
    },
    {
      "cell_type": "code",
      "metadata": {
        "nbgrader": {
          "grade": false,
          "grade_id": "cs11",
          "locked": false,
          "points": "1",
          "solution": false
        },
        "id": "-EZxEIdlxCbt"
      },
      "source": [
        "# Task 1\n",
        "# read CSV file, replace the None\n",
        "df = None\n",
        "\n",
        "###\n",
        "### YOUR CODE HERE\n",
        "###\n",
        "\n",
        "display(df)\n"
      ],
      "execution_count": null,
      "outputs": []
    },
    {
      "cell_type": "code",
      "metadata": {
        "collapsed": true,
        "nbgrader": {
          "grade": true,
          "grade_id": "cs11",
          "locked": true,
          "points": "1",
          "solution": false
        },
        "editable": false,
        "deletable": false,
        "id": "vc2fsGA1xCbt"
      },
      "source": [
        "assert isinstance(df, pd.DataFrame)\n",
        "assert df.shape == (506, 14)\n",
        "assert df.columns[0] == 'CRIM' and df.columns[-1] == 'MEDV'"
      ],
      "execution_count": null,
      "outputs": []
    },
    {
      "cell_type": "markdown",
      "metadata": {
        "nbgrader": {
          "grade": false,
          "locked": true,
          "solution": false
        },
        "editable": false,
        "deletable": false,
        "id": "4l5a6b33xCbu"
      },
      "source": [
        "- **Task 2:** Display the number of rows and columns. Hint:\n",
        "    - you can use `df.shape` to get the number of rows and columns\n"
      ]
    },
    {
      "cell_type": "code",
      "metadata": {
        "id": "06BnohAVxCbv"
      },
      "source": [
        "# Task 2\n",
        "# get the shape from the data frame, replace the None\n",
        "shape = None\n",
        "\n",
        "# use the 'shape' variable to get the row and the column\n",
        "# replace the None\n",
        "row = None\n",
        "col = None\n",
        "\n",
        "###\n",
        "### YOUR CODE HERE\n",
        "###\n",
        "\n",
        "print(shape)\n",
        "print(row, col)\n",
        "\n"
      ],
      "execution_count": null,
      "outputs": []
    },
    {
      "cell_type": "code",
      "metadata": {
        "collapsed": true,
        "nbgrader": {
          "grade": true,
          "grade_id": "cs12",
          "locked": true,
          "points": "1",
          "solution": false
        },
        "editable": false,
        "deletable": false,
        "id": "4nYf9_4zxCbw"
      },
      "source": [
        "assert shape == (506, 14)\n",
        "assert row == 506\n",
        "assert col == 14"
      ],
      "execution_count": null,
      "outputs": []
    },
    {
      "cell_type": "markdown",
      "metadata": {
        "nbgrader": {
          "grade": false,
          "locked": true,
          "solution": false
        },
        "editable": false,
        "deletable": false,
        "id": "Ez6-2ClyxCbw"
      },
      "source": [
        "- **Task 3:** Display the name of all the columns. Hint:\n",
        "    - you can use `df.columns` to get the name of all the columns\n",
        "    - check the meaning of each column using the link above\n"
      ]
    },
    {
      "cell_type": "code",
      "metadata": {
        "id": "m2Q2DHC_xCbx"
      },
      "source": [
        "# Task 3\n",
        "# display column names, replace the None\n",
        "names = None\n",
        "\n",
        "###\n",
        "### YOUR CODE HERE\n",
        "###\n",
        "\n",
        "display(names)\n"
      ],
      "execution_count": null,
      "outputs": []
    },
    {
      "cell_type": "code",
      "metadata": {
        "collapsed": true,
        "nbgrader": {
          "grade": true,
          "grade_id": "cs13",
          "locked": true,
          "points": "1",
          "solution": false
        },
        "editable": false,
        "deletable": false,
        "id": "3okvYDKBxCbx"
      },
      "source": [
        "assert isinstance(names, pd.Index)\n",
        "assert np.all(names == pd.Index(['CRIM', 'ZN', 'INDUS', 'CHAS', 'NOX', 'RM', 'AGE', 'DIS', 'RAD', 'TAX',\n",
        "       'PTRATIO', 'B', 'LSTAT', 'MEDV']))"
      ],
      "execution_count": null,
      "outputs": []
    },
    {
      "cell_type": "markdown",
      "metadata": {
        "nbgrader": {
          "grade": false,
          "locked": true,
          "solution": false
        },
        "editable": false,
        "deletable": false,
        "id": "tWlqluRZxCbx"
      },
      "source": [
        "\n",
        "- **Task 4:** Do the following:\n",
        "    - Create a subset data set containing only the following columns: \"RM\", \"DIS\", \"INDUS\" for the features. Make sure it is of `pd.DataFrame` type.\n",
        "    - Create a subset data set containing only \"MEDV\" for the target. Make sure it is of `pd.DataFrame` type.\n"
      ]
    },
    {
      "cell_type": "code",
      "metadata": {
        "id": "sXhZciu7xCby"
      },
      "source": [
        "# Task 4\n",
        "# Specify the columns you want to extract into a list\n",
        "# replace the None\n",
        "columns = [None]\n",
        "\n",
        "# extract the respective columns from the data frame\n",
        "# replace the None\n",
        "df_feature = None\n",
        "df_target = None\n",
        "\n",
        "###\n",
        "### YOUR CODE HERE\n",
        "###\n",
        "\n",
        "display(df_feature)\n",
        "display(df_target)\n",
        "\n"
      ],
      "execution_count": null,
      "outputs": []
    },
    {
      "cell_type": "code",
      "metadata": {
        "collapsed": true,
        "nbgrader": {
          "grade": true,
          "grade_id": "cs14",
          "locked": true,
          "points": "1",
          "solution": false
        },
        "editable": false,
        "deletable": false,
        "id": "YwLF30uLxCby"
      },
      "source": [
        "assert isinstance(df_feature, pd.DataFrame)\n",
        "assert isinstance(df_target, pd.DataFrame)\n",
        "assert df_feature.shape == (506, 3)\n",
        "assert df_target.shape == (506, 1)\n",
        "assert np.all(df_feature.columns == pd.Index(['RM', 'DIS', 'INDUS']))\n",
        "assert df_target.columns == pd.Index(['MEDV'])"
      ],
      "execution_count": null,
      "outputs": []
    },
    {
      "cell_type": "markdown",
      "metadata": {
        "nbgrader": {
          "grade": false,
          "locked": true,
          "solution": false
        },
        "editable": false,
        "deletable": false,
        "id": "I7YHpuPExCby"
      },
      "source": [
        "**CS2.** *Data Frame Operation:* \n",
        "\n",
        "Reference:\n",
        "- [Indexing and Selecting Data](https://pandas.pydata.org/pandas-docs/stable/user_guide/indexing.html)\n",
        "\n",
        "Create separate and new data frame for the columns: `\"RM\", \"DIS\", \"INDUS\", \"MEDV\"` that satisfies each of the following condition:\n",
        "\n",
        "- **Task 1:** All records with weighted distances to ﬁve Boston employment centers between 0 to 3.\n"
      ]
    },
    {
      "cell_type": "code",
      "metadata": {
        "id": "1s7j6rUAxCbz"
      },
      "source": [
        "# specify the columns of interest, replace the None\n",
        "columns = [None]\n",
        "\n",
        "# use conditions for row selector and column selector\n",
        "# replace the None\n",
        "df_1 = None\n",
        "\n",
        "###\n",
        "### YOUR CODE HERE\n",
        "###\n",
        "\n",
        "myplot = sns.pairplot(data=df_1)"
      ],
      "execution_count": null,
      "outputs": []
    },
    {
      "cell_type": "markdown",
      "metadata": {
        "nbgrader": {
          "grade": false,
          "locked": true,
          "solution": false
        },
        "editable": false,
        "deletable": false,
        "id": "LroCXvUZxCb0"
      },
      "source": [
        "- **Task 2:** All records with average number of room between 5 to 8.\n"
      ]
    },
    {
      "cell_type": "code",
      "metadata": {
        "id": "JAYFLtfkxCb0"
      },
      "source": [
        "# specify the columns of interest, replace the None\n",
        "columns = [None]\n",
        "\n",
        "# use conditions for row selector and column selector\n",
        "# replace the None\n",
        "df_2 = None\n",
        "\n",
        "###\n",
        "### YOUR CODE HERE\n",
        "###\n",
        "\n",
        "myplot = sns.pairplot(data=df_2)"
      ],
      "execution_count": null,
      "outputs": []
    },
    {
      "cell_type": "markdown",
      "metadata": {
        "nbgrader": {
          "grade": false,
          "locked": true,
          "solution": false
        },
        "editable": false,
        "deletable": false,
        "id": "r9YGAszVxCb1"
      },
      "source": [
        "- **Task 3:** The first 15 records in the table.\n"
      ]
    },
    {
      "cell_type": "code",
      "metadata": {
        "id": "TAdfsM1KxCb1"
      },
      "source": [
        "# specify the columns of interest, replace the None\n",
        "columns = [None]\n",
        "\n",
        "# use conditions for row selector and column selector\n",
        "# replace the None\n",
        "df_3 = None\n",
        "\n",
        "###\n",
        "### YOUR CODE HERE\n",
        "###\n",
        "\n",
        "display(df_3)\n"
      ],
      "execution_count": null,
      "outputs": []
    },
    {
      "cell_type": "markdown",
      "metadata": {
        "nbgrader": {
          "grade": false,
          "locked": true,
          "solution": false
        },
        "editable": false,
        "deletable": false,
        "id": "_zovMf7ixCb2"
      },
      "source": [
        "- **Task 4:** The last 15 records in the table.\n"
      ]
    },
    {
      "cell_type": "code",
      "metadata": {
        "id": "4AgbBJAOxCb2"
      },
      "source": [
        "# specify the columns of interest, replace the None\n",
        "columns = [None]\n",
        "\n",
        "# use conditions for row selector and column selector\n",
        "# replace the None\n",
        "df_4 = None\n",
        "\n",
        "###\n",
        "### YOUR CODE HERE\n",
        "###\n",
        "\n",
        "display(df_4)"
      ],
      "execution_count": null,
      "outputs": []
    },
    {
      "cell_type": "markdown",
      "metadata": {
        "nbgrader": {
          "grade": false,
          "locked": true,
          "solution": false
        },
        "editable": false,
        "deletable": false,
        "id": "7-v78gDrxCb3"
      },
      "source": [
        "- **Task 5:** All records with even index numbers, i.e. index 0, 2, 4, ... .\n"
      ]
    },
    {
      "cell_type": "code",
      "metadata": {
        "id": "3wDgV6-FxCb3"
      },
      "source": [
        "# specify the columns of interest, replace the None\n",
        "columns = [None]\n",
        "\n",
        "# use conditions for row selector and column selector\n",
        "# replace the None\n",
        "df_5 = None\n",
        "\n",
        "###\n",
        "### YOUR CODE HERE\n",
        "###\n",
        "\n",
        "display(df_5)"
      ],
      "execution_count": null,
      "outputs": []
    },
    {
      "cell_type": "markdown",
      "metadata": {
        "nbgrader": {
          "grade": false,
          "locked": true,
          "solution": false
        },
        "editable": false,
        "deletable": false,
        "id": "Qihja6UXxCb3"
      },
      "source": [
        "**CS3.** *Histogram and Box plot:* Plot the histogram for the median value in \\$1000 for the Boston's housing price. \n",
        "\n",
        "\n",
        "Reference:\n",
        "- [Histogram](https://seaborn.pydata.org/generated/seaborn.histplot.html)\n",
        "- [Box plot](https://seaborn.pydata.org/generated/seaborn.boxplot.html)\n",
        "\n",
        "- **Task 1:** Plot the histogram with default bin values."
      ]
    },
    {
      "cell_type": "code",
      "metadata": {
        "id": "QdKnyrIaxCb4"
      },
      "source": [
        "# plot histogram for MEDV, replace the None\n",
        "myplot = None\n",
        "\n",
        "# set the x label, write the code below\n",
        "\n",
        "# set the y label, write the code below\n",
        "\n",
        "###\n",
        "### YOUR CODE HERE\n",
        "###\n"
      ],
      "execution_count": null,
      "outputs": []
    },
    {
      "cell_type": "markdown",
      "metadata": {
        "nbgrader": {
          "grade": false,
          "locked": true,
          "solution": false
        },
        "editable": false,
        "deletable": false,
        "id": "l3v8Kr0qxCb5"
      },
      "source": [
        "- **Task 2:** Plot the histogram with 5 bins only. Hint:\n"
      ]
    },
    {
      "cell_type": "code",
      "metadata": {
        "id": "jHrjXJaAxCb6"
      },
      "source": [
        "# plot histogram for MEDV, replace the None\n",
        "myplot = None\n",
        "\n",
        "# set the x label, write the code below\n",
        "\n",
        "# set the y label, write the code below\n",
        "\n",
        "###\n",
        "### YOUR CODE HERE\n",
        "###\n"
      ],
      "execution_count": null,
      "outputs": []
    },
    {
      "cell_type": "markdown",
      "metadata": {
        "nbgrader": {
          "grade": false,
          "locked": true,
          "solution": false
        },
        "editable": false,
        "deletable": false,
        "id": "QMGBGs2TxCb6"
      },
      "source": [
        "- **Task 3:** Plot the histogram with the following bin edges `0, 10, 20, 30, 40, 50`."
      ]
    },
    {
      "cell_type": "code",
      "metadata": {
        "id": "hKlzmXAtxCb6"
      },
      "source": [
        "# plot histogram for MEDV, replace the None\n",
        "myplot = None\n",
        "\n",
        "# set the x label, write the code below\n",
        "\n",
        "# set the y label, write the code below\n",
        "\n",
        "###\n",
        "### YOUR CODE HERE\n",
        "###\n"
      ],
      "execution_count": null,
      "outputs": []
    },
    {
      "cell_type": "markdown",
      "metadata": {
        "nbgrader": {
          "grade": false,
          "locked": true,
          "solution": false
        },
        "editable": false,
        "deletable": false,
        "id": "OExpPJYqxCb7"
      },
      "source": [
        "- **Task 4:** Plot the same data using a box plot in a horizontal manner."
      ]
    },
    {
      "cell_type": "code",
      "metadata": {
        "id": "6i2SKI02xCb7"
      },
      "source": [
        "# plot boxplot for MEDV, replace the None\n",
        "myplot = None\n",
        "\n",
        "# set the x label, write the code below\n",
        "\n",
        "###\n",
        "### YOUR CODE HERE\n",
        "###\n"
      ],
      "execution_count": null,
      "outputs": []
    },
    {
      "cell_type": "markdown",
      "metadata": {
        "nbgrader": {
          "grade": false,
          "locked": true,
          "solution": false
        },
        "editable": false,
        "deletable": false,
        "id": "iNJxtiFexCb7"
      },
      "source": [
        "**CS4.** *Scatter plot:* Do the following plots. "
      ]
    },
    {
      "cell_type": "markdown",
      "metadata": {
        "nbgrader": {
          "grade": false,
          "locked": true,
          "solution": false
        },
        "editable": false,
        "deletable": false,
        "id": "vKYkcIRPxCb8"
      },
      "source": [
        "- **Task 1:** Display scatter plot of \"RM\" versus \"MEDV\". Hint: \n",
        "    - Use Seaborn default theme instead of matplotlib\n",
        "    - [Seaborn scatter plot](https://seaborn.pydata.org/generated/seaborn.scatterplot.html)\n",
        "    - Use \"RM\" as x data\n",
        "    - Use \"MEDV\" as y data\n"
      ]
    },
    {
      "cell_type": "code",
      "metadata": {
        "collapsed": true,
        "nbgrader": {
          "grade": false,
          "locked": true,
          "solution": false
        },
        "editable": false,
        "deletable": false,
        "id": "5pfTxQscxCb8"
      },
      "source": [
        "# Set the theme parameter to Seaborn's default\n",
        "sns.set()"
      ],
      "execution_count": null,
      "outputs": []
    },
    {
      "cell_type": "code",
      "metadata": {
        "id": "1EFHtX2bxCb9"
      },
      "source": [
        "# Task 5\n",
        "# plot scatter plot, replace the None \n",
        "myplot = sns.scatterplot(x=None, y=None, data=None)\n",
        "\n",
        "###\n",
        "### YOUR CODE HERE\n",
        "###\n"
      ],
      "execution_count": null,
      "outputs": []
    },
    {
      "cell_type": "markdown",
      "metadata": {
        "nbgrader": {
          "grade": false,
          "locked": true,
          "solution": false
        },
        "editable": false,
        "deletable": false,
        "id": "mJy9gCSgxCb9"
      },
      "source": [
        "- **Task 2:** Display a scatter plot \"weighted distances to ﬁve Boston employment centers\" versus \"Median value of owner-occupied homes in \\$1000s\". Use average number of rooms per dwelling as the hue data.\n"
      ]
    },
    {
      "cell_type": "code",
      "metadata": {
        "id": "Wt3yyr_BxCb-"
      },
      "source": [
        "# Task 6\n",
        "# plot using scatter plot\n",
        "# replace the None\n",
        "myplot = None\n",
        "\n",
        "###\n",
        "### YOUR CODE HERE\n",
        "###\n"
      ],
      "execution_count": null,
      "outputs": []
    },
    {
      "cell_type": "markdown",
      "metadata": {
        "nbgrader": {
          "grade": false,
          "locked": true,
          "solution": false
        },
        "editable": false,
        "deletable": false,
        "id": "KZRn4vmVxCb-"
      },
      "source": [
        "- **Task 3:** Display a scatter plot \"proportion of non-retail business acres per town\" versus \"Median value of owner-occupied homes in \\$1000s\". Use \"proportion of residential land zoned for lots over 25,000 sq.ft.\" as the hue data.\n"
      ]
    },
    {
      "cell_type": "code",
      "metadata": {
        "id": "9VbVS5FrxCb-"
      },
      "source": [
        "# Task 3\n",
        "# plot using scatter plot and use \"hue\"\n",
        "# replace the None\n",
        "myplot = sns.scatterplot(x=None, y=None, hue=\"ZN\", data=None)\n",
        "\n",
        "###\n",
        "### YOUR CODE HERE\n",
        "###\n"
      ],
      "execution_count": null,
      "outputs": []
    },
    {
      "cell_type": "markdown",
      "metadata": {
        "nbgrader": {
          "grade": false,
          "locked": true,
          "solution": false
        },
        "editable": false,
        "deletable": false,
        "id": "6HObRYBpxCb_"
      },
      "source": [
        "Answer the following:\n",
        "- How many columns are there?\n",
        "- How many rows are there?\n",
        "- What are the names of the columns\n",
        "- What is the range of the median value in \\$1000 when the average number of room per dwelling is 8?\n",
        "- What's the relationship between distance to five Boston's employment centres and the median value in \\$1000?\n",
        "- What's the relationship between the proportion of non-retail business acres per town adn the median value in \\$1000?"
      ]
    },
    {
      "cell_type": "markdown",
      "metadata": {
        "nbgrader": {
          "grade": false,
          "locked": true,
          "solution": false
        },
        "editable": false,
        "deletable": false,
        "id": "6CYa9vEzxCb_"
      },
      "source": [
        "**CS5.** *Standardization:* Write a function that takes in data frame where all the column are the features and normalize each column according to the following formula.\n",
        "\n",
        "$$normalized = \\frac{data - \\mu}{\\sigma}$$\n",
        "\n",
        "where $\\mu$ is the mean of the data and $\\sigma$ is the standard deviation of the data. **You need to normalize for each column respectively**. The function should return a new data frame.\n",
        "\n",
        "Use the following functions from Pandas:\n",
        "- `df.mean(axis=0)`: This is to calculate the mean along the index axis.\n",
        "- `df.std(axis=0)`: This is to calculate the standard deviation along the index axis.\n",
        "\n",
        "Note: Your function should be able to handle a numpy array as well as Panda's data frame. *Hint: use axis=0 argument when calculating mean and standard deviation.*"
      ]
    },
    {
      "cell_type": "code",
      "metadata": {
        "collapsed": true,
        "id": "v4H2cjovxCb_"
      },
      "source": [
        "def normalize_z(dfin):\n",
        "    ###\n",
        "    ### YOUR CODE HERE\n",
        "    ###\n",
        "    return dfout\n"
      ],
      "execution_count": null,
      "outputs": []
    },
    {
      "cell_type": "code",
      "metadata": {
        "nbgrader": {
          "grade": true,
          "grade_id": "cs51",
          "locked": true,
          "points": "1",
          "solution": false
        },
        "editable": false,
        "deletable": false,
        "id": "KLN0n7rmxCb_"
      },
      "source": [
        "data_norm = normalize_z(df_feature)\n",
        "stats = data_norm.describe()\n",
        "display(stats)\n",
        "assert np.isclose(stats.loc[\"mean\", \"RM\"], 0.0) and \\\n",
        "       np.isclose(stats.loc[\"std\", \"RM\"], 1.0, atol=1e-3)\n",
        "assert np.isclose(stats.loc[\"mean\", \"DIS\"], 0.0) and \\\n",
        "       np.isclose(stats.loc[\"std\", \"DIS\"], 1.0, atol=1e-3)\n",
        "assert np.isclose(stats.loc[\"mean\", \"INDUS\"], 0.0) and \\\n",
        "       np.isclose(stats.loc[\"std\", \"INDUS\"], 1.0, atol=1e-3)"
      ],
      "execution_count": null,
      "outputs": []
    },
    {
      "cell_type": "code",
      "metadata": {
        "collapsed": true,
        "id": "1hDxRN0AxCcA"
      },
      "source": [
        "data_norm = normalize_z(df_feature.to_numpy())\n",
        "assert np.isclose(data_norm[:,0].mean(), 0.0) and \\\n",
        "       np.isclose(data_norm[:,0].std(), 1.0, atol=1e-3)\n",
        "assert np.isclose(data_norm[:,1].mean(), 0.0) and \\\n",
        "       np.isclose(data_norm[:,1].std(), 1.0, atol=1e-3)\n",
        "assert np.isclose(data_norm[:,2].mean(), 0.0) and \\\n",
        "       np.isclose(data_norm[:,2].std(), 1.0, atol=1e-3)"
      ],
      "execution_count": null,
      "outputs": []
    },
    {
      "cell_type": "markdown",
      "metadata": {
        "nbgrader": {
          "grade": false,
          "locked": true,
          "solution": false
        },
        "editable": false,
        "deletable": false,
        "id": "6Q18lmSfxCcA"
      },
      "source": [
        "**CS6.** *Splitting Data Randomly:* Create a function to split the Data Frame randomly. The function should have the following arguments:\n",
        "- `df_feature`: which is the data frame for the features.\n",
        "- `df_target`: which is the data frame for the target.\n",
        "- `random_state`: which is the seed used to split randomly.\n",
        "- `test_size`: which is the fraction for the test data set (0 to 1), by default is set to 0.5\n",
        "\n",
        "The output of the function is a tuple of four items:\n",
        "- `df_feature_train`: which is the train set for the features data frame\n",
        "- `df_feature_test`: which is the test set for the features data frame\n",
        "- `df_target_train`: which is the train set for the target data frame\n",
        "- `df_target_test`: which is the test set for the target data frame\n",
        "\n",
        "Hint:\n",
        "- Use [`numpy.random.choice()`](https://docs.scipy.org/doc/numpy-1.13.0/reference/generated/numpy.random.choice.html)\n"
      ]
    },
    {
      "cell_type": "code",
      "metadata": {
        "collapsed": true,
        "id": "TFYgmx80xCcA"
      },
      "source": [
        "def split_data(df_feature, df_target, random_state=None, test_size=0.5):\n",
        "    ###\n",
        "    ### YOUR CODE HERE\n",
        "    ###\n",
        "    return df_feature_train, df_feature_test, df_target_train, df_target_test\n",
        "    \n"
      ],
      "execution_count": null,
      "outputs": []
    },
    {
      "cell_type": "code",
      "metadata": {
        "id": "wHyeDdXXxCcA"
      },
      "source": [
        "df_feature_train, df_feature_test, df_target_train, df_target_test = split_data(df_feature, df_target, random_state=100, test_size=0.3)\n",
        "\n",
        "display(df_feature_train.describe())\n",
        "display(df_feature_test.describe())\n",
        "display(df_target_train.describe())\n",
        "display(df_target_test.describe())\n",
        "\n",
        "assert np.all(df_feature_train.count() == 355)\n",
        "assert np.all(df_feature_test.count() == 151)\n",
        "assert np.all(df_target_train.count() == 355)\n",
        "assert np.all(df_target_test.count() == 151)\n",
        "\n",
        "assert np.isclose(df_feature_train[\"RM\"].mean(), 6.2968)\n",
        "assert np.isclose(df_feature_test[\"DIS\"].std(), 2.2369)\n",
        "assert np.isclose(df_target_train[\"MEDV\"].median(), 21.40)\n",
        "assert np.isclose(df_target_test[\"MEDV\"].median(), 20.90)\n"
      ],
      "execution_count": null,
      "outputs": []
    }
  ]
}